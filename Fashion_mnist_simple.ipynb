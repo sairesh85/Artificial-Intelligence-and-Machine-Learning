{
 "cells": [
  {
   "cell_type": "code",
   "execution_count": 1,
   "metadata": {},
   "outputs": [
    {
     "name": "stderr",
     "output_type": "stream",
     "text": [
      "C:\\Program Files (x86)\\Microsoft Visual Studio\\Shared\\Anaconda3_64\\lib\\site-packages\\h5py\\__init__.py:36: FutureWarning: Conversion of the second argument of issubdtype from `float` to `np.floating` is deprecated. In future, it will be treated as `np.float64 == np.dtype(float).type`.\n",
      "  from ._conv import register_converters as _register_converters\n"
     ]
    }
   ],
   "source": [
    "import tensorflow as tf"
   ]
  },
  {
   "cell_type": "code",
   "execution_count": 2,
   "metadata": {},
   "outputs": [],
   "source": [
    "f_mnist =  tf.keras.datasets.fashion_mnist"
   ]
  },
  {
   "cell_type": "code",
   "execution_count": 3,
   "metadata": {},
   "outputs": [],
   "source": [
    "(x_train, y_train), (x_test, y_test) = f_mnist.load_data()"
   ]
  },
  {
   "cell_type": "code",
   "execution_count": 4,
   "metadata": {},
   "outputs": [
    {
     "name": "stdout",
     "output_type": "stream",
     "text": [
      "Shapes are  (60000, 28, 28) (60000,) (10000, 28, 28) (10000,)\n"
     ]
    }
   ],
   "source": [
    "print(\"Shapes are \", x_train.shape, y_train.shape, x_test.shape, y_test.shape)"
   ]
  },
  {
   "cell_type": "code",
   "execution_count": 5,
   "metadata": {},
   "outputs": [],
   "source": [
    "import numpy as np\n",
    "import matplotlib.pyplot as plt\n",
    "import pandas as pd"
   ]
  },
  {
   "cell_type": "code",
   "execution_count": 6,
   "metadata": {},
   "outputs": [
    {
     "data": {
      "text/plain": [
       "array([0, 1, 2, 3, 4, 5, 6, 7, 8, 9], dtype=uint8)"
      ]
     },
     "execution_count": 6,
     "metadata": {},
     "output_type": "execute_result"
    }
   ],
   "source": [
    "np.unique(y_train)"
   ]
  },
  {
   "cell_type": "code",
   "execution_count": 7,
   "metadata": {},
   "outputs": [],
   "source": [
    "y_train = tf.keras.utils.to_categorical(y_train)\n",
    "y_test = tf.keras.utils.to_categorical(y_test, num_classes=10)"
   ]
  },
  {
   "cell_type": "code",
   "execution_count": 8,
   "metadata": {},
   "outputs": [
    {
     "name": "stdout",
     "output_type": "stream",
     "text": [
      "Shapes are  (60000, 28, 28) (60000, 10) (10000, 28, 28) (10000, 10)\n"
     ]
    }
   ],
   "source": [
    "print(\"Shapes are \", x_train.shape, y_train.shape, x_test.shape, y_test.shape)"
   ]
  },
  {
   "cell_type": "code",
   "execution_count": 9,
   "metadata": {},
   "outputs": [
    {
     "data": {
      "image/png": "[encoded data removed]",
      "text/plain": [
       "<Figure size 432x288 with 1 Axes>"
      ]
     },
     "metadata": {},
     "output_type": "display_data"
    },
    {
     "data": {
      "image/png": "[encoded data removed]",
      "text/plain": [
       "<Figure size 432x288 with 1 Axes>"
      ]
     },
     "metadata": {},
     "output_type": "display_data"
    },
    {
     "data": {
      "image/png": "[encoded data removed]",
      "text/plain": [
       "<Figure size 432x288 with 1 Axes>"
      ]
     },
     "metadata": {},
     "output_type": "display_data"
    }
   ],
   "source": [
    "for i in range(3):\n",
    "    plt.figure()\n",
    "    plt.imshow(x_train[i])"
   ]
  },
  {
   "cell_type": "code",
   "execution_count": 10,
   "metadata": {},
   "outputs": [],
   "source": [
    "model = tf.keras.models.Sequential()"
   ]
  },
  {
   "cell_type": "code",
   "execution_count": 11,
   "metadata": {},
   "outputs": [],
   "source": [
    "model.add(tf.keras.layers.Reshape((784, ), input_shape=(28,28)))\n",
    "model.add(tf.keras.layers.BatchNormalization())"
   ]
  },
  {
   "cell_type": "code",
   "execution_count": 12,
   "metadata": {},
   "outputs": [],
   "source": [
    "model.add(tf.keras.layers.Dense(units=10, activation='softmax'))"
   ]
  },
  {
   "cell_type": "code",
   "execution_count": 13,
   "metadata": {},
   "outputs": [],
   "source": [
    "model.compile(optimizer='sgd', loss='categorical_crossentropy', metrics=['accuracy'])"
   ]
  },
  {
   "cell_type": "code",
   "execution_count": 14,
   "metadata": {},
   "outputs": [
    {
     "name": "stdout",
     "output_type": "stream",
     "text": [
      "Train on 60000 samples, validate on 10000 samples\n",
      "Epoch 1/10\n",
      "60000/60000 [==============================] - 4s 70us/step - loss: 0.6454 - acc: 0.7763 - val_loss: 0.5506 - val_acc: 0.8151\n",
      "Epoch 2/10\n",
      "60000/60000 [==============================] - 3s 58us/step - loss: 0.5020 - acc: 0.8272 - val_loss: 0.5181 - val_acc: 0.8236\n",
      "Epoch 3/10\n",
      "60000/60000 [==============================] - 4s 61us/step - loss: 0.4738 - acc: 0.8375 - val_loss: 0.4928 - val_acc: 0.8317\n",
      "Epoch 4/10\n",
      "60000/60000 [==============================] - 4s 59us/step - loss: 0.4588 - acc: 0.8409 - val_loss: 0.4828 - val_acc: 0.8329\n",
      "Epoch 5/10\n",
      "60000/60000 [==============================] - 4s 59us/step - loss: 0.4484 - acc: 0.8450 - val_loss: 0.4747 - val_acc: 0.8331\n",
      "Epoch 6/10\n",
      "60000/60000 [==============================] - 4s 59us/step - loss: 0.4418 - acc: 0.8465 - val_loss: 0.4705 - val_acc: 0.8353\n",
      "Epoch 7/10\n",
      "60000/60000 [==============================] - 4s 62us/step - loss: 0.4370 - acc: 0.8492 - val_loss: 0.4684 - val_acc: 0.8364\n",
      "Epoch 8/10\n",
      "60000/60000 [==============================] - 4s 60us/step - loss: 0.4316 - acc: 0.8513 - val_loss: 0.4682 - val_acc: 0.8377\n",
      "Epoch 9/10\n",
      "60000/60000 [==============================] - 4s 61us/step - loss: 0.4283 - acc: 0.8529 - val_loss: 0.4624 - val_acc: 0.8401\n",
      "Epoch 10/10\n",
      "60000/60000 [==============================] - 4s 65us/step - loss: 0.4249 - acc: 0.8529 - val_loss: 0.4607 - val_acc: 0.8409\n"
     ]
    },
    {
     "data": {
      "text/plain": [
       "<tensorflow.python.keras.callbacks.History at 0x1b0638e04a8>"
      ]
     },
     "execution_count": 14,
     "metadata": {},
     "output_type": "execute_result"
    }
   ],
   "source": [
    "model.fit(x=x_train, y=y_train, batch_size=64, epochs=10, validation_data=(x_test, y_test))"
   ]
  },
  {
   "cell_type": "code",
   "execution_count": 15,
   "metadata": {},
   "outputs": [],
   "source": [
    "model1 = tf.keras.models.Sequential()"
   ]
  },
  {
   "cell_type": "code",
   "execution_count": 16,
   "metadata": {},
   "outputs": [
    {
     "name": "stdout",
     "output_type": "stream",
     "text": [
      "Train on 60000 samples, validate on 10000 samples\n",
      "Epoch 1/50\n",
      "60000/60000 [==============================] - 7s 119us/step - loss: 0.6965 - acc: 0.7764 - val_loss: 0.5023 - val_acc: 0.8302\n",
      "Epoch 2/50\n",
      "60000/60000 [==============================] - 5s 89us/step - loss: 0.4619 - acc: 0.8403 - val_loss: 0.4378 - val_acc: 0.8501\n",
      "Epoch 3/50\n",
      "60000/60000 [==============================] - 5s 90us/step - loss: 0.4125 - acc: 0.8564 - val_loss: 0.4108 - val_acc: 0.8584\n",
      "Epoch 4/50\n",
      "60000/60000 [==============================] - 6s 104us/step - loss: 0.3824 - acc: 0.8646 - val_loss: 0.3919 - val_acc: 0.8622\n",
      "Epoch 5/50\n",
      "60000/60000 [==============================] - 5s 89us/step - loss: 0.3644 - acc: 0.8707 - val_loss: 0.3917 - val_acc: 0.8627\n",
      "Epoch 6/50\n",
      "60000/60000 [==============================] - 5s 85us/step - loss: 0.3448 - acc: 0.8771 - val_loss: 0.3738 - val_acc: 0.8666\n",
      "Epoch 7/50\n",
      "60000/60000 [==============================] - 5s 85us/step - loss: 0.3352 - acc: 0.8796 - val_loss: 0.3687 - val_acc: 0.8707\n",
      "Epoch 8/50\n",
      "60000/60000 [==============================] - 5s 82us/step - loss: 0.3236 - acc: 0.8822 - val_loss: 0.3594 - val_acc: 0.8709\n",
      "Epoch 9/50\n",
      "60000/60000 [==============================] - 5s 83us/step - loss: 0.3117 - acc: 0.8880 - val_loss: 0.3599 - val_acc: 0.8709\n",
      "Epoch 10/50\n",
      "60000/60000 [==============================] - 5s 82us/step - loss: 0.3026 - acc: 0.8906 - val_loss: 0.3527 - val_acc: 0.8730\n",
      "Epoch 11/50\n",
      "60000/60000 [==============================] - 5s 87us/step - loss: 0.2951 - acc: 0.8928 - val_loss: 0.3521 - val_acc: 0.8735\n",
      "Epoch 12/50\n",
      "60000/60000 [==============================] - 5s 85us/step - loss: 0.2846 - acc: 0.8978 - val_loss: 0.3531 - val_acc: 0.8733\n",
      "Epoch 13/50\n",
      "60000/60000 [==============================] - 5s 76us/step - loss: 0.2774 - acc: 0.8992 - val_loss: 0.3482 - val_acc: 0.8772\n",
      "Epoch 14/50\n",
      "60000/60000 [==============================] - 4s 74us/step - loss: 0.2734 - acc: 0.8995 - val_loss: 0.3424 - val_acc: 0.8790\n",
      "Epoch 15/50\n",
      "60000/60000 [==============================] - 5s 75us/step - loss: 0.2651 - acc: 0.9035 - val_loss: 0.3527 - val_acc: 0.8765\n",
      "Epoch 16/50\n",
      "60000/60000 [==============================] - 5s 79us/step - loss: 0.2591 - acc: 0.9057 - val_loss: 0.3487 - val_acc: 0.8801\n",
      "Epoch 17/50\n",
      "60000/60000 [==============================] - 5s 86us/step - loss: 0.2548 - acc: 0.9069 - val_loss: 0.3434 - val_acc: 0.8814\n",
      "Epoch 18/50\n",
      "60000/60000 [==============================] - 5s 88us/step - loss: 0.2497 - acc: 0.9085 - val_loss: 0.3436 - val_acc: 0.8789\n",
      "Epoch 19/50\n",
      "60000/60000 [==============================] - 5s 80us/step - loss: 0.2448 - acc: 0.9098 - val_loss: 0.3471 - val_acc: 0.8807\n",
      "Epoch 20/50\n",
      "60000/60000 [==============================] - 4s 73us/step - loss: 0.2385 - acc: 0.9122 - val_loss: 0.3467 - val_acc: 0.8795\n",
      "Epoch 21/50\n",
      "60000/60000 [==============================] - 5s 78us/step - loss: 0.2340 - acc: 0.9128 - val_loss: 0.3467 - val_acc: 0.8813\n",
      "Epoch 22/50\n",
      "60000/60000 [==============================] - 5s 79us/step - loss: 0.2307 - acc: 0.9153 - val_loss: 0.3377 - val_acc: 0.8826\n",
      "Epoch 23/50\n",
      "60000/60000 [==============================] - 5s 90us/step - loss: 0.2277 - acc: 0.9146 - val_loss: 0.3489 - val_acc: 0.8801\n",
      "Epoch 24/50\n",
      "60000/60000 [==============================] - 6s 94us/step - loss: 0.2217 - acc: 0.9174 - val_loss: 0.3480 - val_acc: 0.8813\n",
      "Epoch 25/50\n",
      "60000/60000 [==============================] - 5s 87us/step - loss: 0.2170 - acc: 0.9206 - val_loss: 0.3368 - val_acc: 0.8819\n",
      "Epoch 26/50\n",
      "60000/60000 [==============================] - 5s 86us/step - loss: 0.2124 - acc: 0.9214 - val_loss: 0.3440 - val_acc: 0.8834\n",
      "Epoch 27/50\n",
      "60000/60000 [==============================] - 5s 87us/step - loss: 0.2090 - acc: 0.9222 - val_loss: 0.3483 - val_acc: 0.8824\n",
      "Epoch 28/50\n",
      "60000/60000 [==============================] - 6s 101us/step - loss: 0.2060 - acc: 0.9243 - val_loss: 0.3423 - val_acc: 0.8823\n",
      "Epoch 29/50\n",
      "60000/60000 [==============================] - 5s 87us/step - loss: 0.2017 - acc: 0.9251 - val_loss: 0.3469 - val_acc: 0.8809\n",
      "Epoch 30/50\n",
      "60000/60000 [==============================] - 5s 86us/step - loss: 0.1999 - acc: 0.9266 - val_loss: 0.3501 - val_acc: 0.8813\n",
      "Epoch 31/50\n",
      "60000/60000 [==============================] - 5s 86us/step - loss: 0.1955 - acc: 0.9272 - val_loss: 0.3496 - val_acc: 0.8806\n",
      "Epoch 32/50\n",
      "60000/60000 [==============================] - 5s 86us/step - loss: 0.1932 - acc: 0.9285 - val_loss: 0.3529 - val_acc: 0.8822\n",
      "Epoch 33/50\n",
      "60000/60000 [==============================] - 5s 86us/step - loss: 0.1888 - acc: 0.9294 - val_loss: 0.3585 - val_acc: 0.8800\n",
      "Epoch 34/50\n",
      "60000/60000 [==============================] - 5s 86us/step - loss: 0.1892 - acc: 0.9303 - val_loss: 0.3524 - val_acc: 0.8831\n",
      "Epoch 35/50\n",
      "60000/60000 [==============================] - 5s 86us/step - loss: 0.1845 - acc: 0.9307 - val_loss: 0.3569 - val_acc: 0.8813\n",
      "Epoch 36/50\n",
      "60000/60000 [==============================] - 5s 87us/step - loss: 0.1807 - acc: 0.9325 - val_loss: 0.3473 - val_acc: 0.8849\n",
      "Epoch 37/50\n",
      "60000/60000 [==============================] - 5s 86us/step - loss: 0.1757 - acc: 0.9345 - val_loss: 0.3508 - val_acc: 0.8799\n",
      "Epoch 38/50\n",
      "60000/60000 [==============================] - 6s 92us/step - loss: 0.1755 - acc: 0.9350 - val_loss: 0.3701 - val_acc: 0.8807\n",
      "Epoch 39/50\n",
      "60000/60000 [==============================] - 5s 87us/step - loss: 0.1716 - acc: 0.9359 - val_loss: 0.3622 - val_acc: 0.8794\n",
      "Epoch 40/50\n",
      "60000/60000 [==============================] - 5s 86us/step - loss: 0.1723 - acc: 0.9363 - val_loss: 0.3637 - val_acc: 0.8820\n",
      "Epoch 41/50\n",
      "60000/60000 [==============================] - 5s 87us/step - loss: 0.1669 - acc: 0.9378 - val_loss: 0.3661 - val_acc: 0.8817\n",
      "Epoch 42/50\n",
      "60000/60000 [==============================] - 5s 86us/step - loss: 0.1676 - acc: 0.9389 - val_loss: 0.3645 - val_acc: 0.8841\n",
      "Epoch 43/50\n",
      "60000/60000 [==============================] - 5s 89us/step - loss: 0.1631 - acc: 0.9397 - val_loss: 0.3728 - val_acc: 0.8823\n",
      "Epoch 44/50\n",
      "60000/60000 [==============================] - 5s 90us/step - loss: 0.1616 - acc: 0.9403 - val_loss: 0.3654 - val_acc: 0.8811\n",
      "Epoch 45/50\n",
      "60000/60000 [==============================] - 5s 91us/step - loss: 0.1587 - acc: 0.9418 - val_loss: 0.3630 - val_acc: 0.8828\n",
      "Epoch 46/50\n",
      "60000/60000 [==============================] - 6s 100us/step - loss: 0.1551 - acc: 0.9421 - val_loss: 0.3600 - val_acc: 0.8839\n",
      "Epoch 47/50\n",
      "60000/60000 [==============================] - 6s 99us/step - loss: 0.1542 - acc: 0.9425 - val_loss: 0.3649 - val_acc: 0.8847\n",
      "Epoch 48/50\n",
      "60000/60000 [==============================] - 5s 88us/step - loss: 0.1527 - acc: 0.9430 - val_loss: 0.3758 - val_acc: 0.8821\n",
      "Epoch 49/50\n",
      "60000/60000 [==============================] - 5s 87us/step - loss: 0.1496 - acc: 0.9451 - val_loss: 0.3700 - val_acc: 0.8833\n",
      "Epoch 50/50\n",
      "60000/60000 [==============================] - 5s 87us/step - loss: 0.1501 - acc: 0.9443 - val_loss: 0.3893 - val_acc: 0.8800\n"
     ]
    },
    {
     "data": {
      "text/plain": [
       "<tensorflow.python.keras.callbacks.History at 0x1b065ce2748>"
      ]
     },
     "execution_count": 16,
     "metadata": {},
     "output_type": "execute_result"
    }
   ],
   "source": [
    "model1.add(tf.keras.layers.Reshape((784,), input_shape=(28,28)))\n",
    "model1.add(tf.keras.layers.BatchNormalization())\n",
    "model1.add(tf.keras.layers.Dense(100, activation='relu'))\n",
    "model1.add(tf.keras.layers.BatchNormalization())\n",
    "model1.add(tf.keras.layers.Dense(64, activation='relu'))\n",
    "model1.add(tf.keras.layers.BatchNormalization())\n",
    "model1.add(tf.keras.layers.Dense(28, activation='relu'))\n",
    "model1.add(tf.keras.layers.BatchNormalization())\n",
    "model1.add(tf.keras.layers.Dense(10, activation='softmax'))\n",
    "model1.compile(loss='categorical_crossentropy', metrics=['accuracy'], optimizer='sgd')\n",
    "model1.fit(batch_size=64, epochs=50, validation_data=(x_test, y_test), x=x_train, y=y_train)"
   ]
  }
 ],
 "metadata": {
  "kernelspec": {
   "display_name": "Python 3",
   "language": "python",
   "name": "python3"
  },
  "language_info": {
   "codemirror_mode": {
    "name": "ipython",
    "version": 3
   },
   "file_extension": ".py",
   "mimetype": "text/x-python",
   "name": "python",
   "nbconvert_exporter": "python",
   "pygments_lexer": "ipython3",
   "version": "3.6.5"
  }
 },
 "nbformat": 4,
 "nbformat_minor": 2
}
